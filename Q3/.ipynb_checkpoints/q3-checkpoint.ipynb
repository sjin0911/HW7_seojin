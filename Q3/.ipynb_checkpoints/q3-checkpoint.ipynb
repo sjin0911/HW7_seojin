{
 "cells": [
  {
   "cell_type": "code",
   "execution_count": 17,
   "id": "443cb58d",
   "metadata": {},
   "outputs": [
    {
     "name": "stdout",
     "output_type": "stream",
     "text": [
      "        unit price  number\n",
      "store1        1000      25\n",
      "store2         280     120\n",
      "store3         900      30 \n",
      "\n",
      "        unit price  number  total price\n",
      "store1        1000      25        25000\n",
      "store2         280     120        33600\n",
      "store3         900      30        27000 \n",
      "\n",
      "        unit price  number  total price\n",
      "store2         280     120        33600\n",
      "store3         900      30        27000\n"
     ]
    }
   ],
   "source": [
    "import pandas as pd\n",
    "import numpy as np\n",
    "\n",
    "def main():\n",
    "    data=np.array([[1000,25],[280,120],[900,30]])\n",
    "    index=[\"store1\",\"store2\",\"store3\"]\n",
    "    columns=[\"unit price\",\"number\"]\n",
    "    \n",
    "    df=pd.DataFrame(data,index=index,columns=columns)\n",
    "    print(df,'\\n')\n",
    "    \n",
    "    df2=df\n",
    "    df2[\"total price\"]=df2[\"unit price\"]*df2[\"number\"]\n",
    "    print(df2,'\\n')\n",
    "    \n",
    "    df3=df2.sort_values(by=\"total price\",ascending=False)\n",
    "    print(df3.head(2))\n",
    "    \n",
    "if __name__==\"__main__\":\n",
    "    main()"
   ]
  },
  {
   "cell_type": "code",
   "execution_count": null,
   "id": "c4446522",
   "metadata": {},
   "outputs": [],
   "source": []
  }
 ],
 "metadata": {
  "kernelspec": {
   "display_name": "Python 3 (ipykernel)",
   "language": "python",
   "name": "python3"
  },
  "language_info": {
   "codemirror_mode": {
    "name": "ipython",
    "version": 3
   },
   "file_extension": ".py",
   "mimetype": "text/x-python",
   "name": "python",
   "nbconvert_exporter": "python",
   "pygments_lexer": "ipython3",
   "version": "3.9.7"
  }
 },
 "nbformat": 4,
 "nbformat_minor": 5
}
