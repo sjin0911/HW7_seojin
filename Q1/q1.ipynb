{
 "cells": [
  {
   "cell_type": "code",
   "execution_count": 28,
   "id": "0c6a1740",
   "metadata": {},
   "outputs": [
    {
     "name": "stdout",
     "output_type": "stream",
     "text": [
      "Eigenvalues: \n",
      " [-0.37228132  5.37228132]\n",
      "\n",
      "Eigenvectors: \n",
      " [[-0.82456484 -0.41597356]\n",
      " [ 0.56576746 -0.90937671]]\n",
      "\n",
      "Determinant: -2.00\n",
      "\n",
      "Cross product: \n",
      " [-3  6 -3]\n",
      "\n",
      "Solution: \n",
      " [[-1.]\n",
      " [-4.]\n",
      " [ 3.]]\n"
     ]
    }
   ],
   "source": [
    "import numpy as np\n",
    "\n",
    "def main():\n",
    "    arr=np.array([[1,2],[3,4]])\n",
    "    vec1=np.array([1,2,3])\n",
    "    vec2=np.array([4,5,6])\n",
    "    a=np.array([[1,2,-2],[2,1,-5],[1,-4,1]])\n",
    "    b=np.array([[-15],[-21],[18]])\n",
    "#     print(arr)\n",
    "    \n",
    "    eigval=np.linalg.eig(arr)[0]\n",
    "    eigvect=np.linalg.eig(arr)[1]\n",
    "    det=np.linalg.det(arr)\n",
    "    \n",
    "    print(\"Eigenvalues: \\n\",eigval)\n",
    "    print(\"\\nEigenvectors: \\n\",eigvect)\n",
    "    print(\"\\nDeterminant: {0:2.2f}\".format(det))\n",
    "    print(\"\\nCross product: \\n\",np.cross(vec1,vec2))\n",
    "    print(\"\\nSolution: \\n\",np.linalg.solve(a,b))\n",
    "    \n",
    "    \n",
    "if __name__=='__main__':\n",
    "    main()"
   ]
  },
  {
   "cell_type": "code",
   "execution_count": null,
   "id": "5f4b25db",
   "metadata": {},
   "outputs": [],
   "source": []
  }
 ],
 "metadata": {
  "kernelspec": {
   "display_name": "Python 3 (ipykernel)",
   "language": "python",
   "name": "python3"
  },
  "language_info": {
   "codemirror_mode": {
    "name": "ipython",
    "version": 3
   },
   "file_extension": ".py",
   "mimetype": "text/x-python",
   "name": "python",
   "nbconvert_exporter": "python",
   "pygments_lexer": "ipython3",
   "version": "3.9.7"
  }
 },
 "nbformat": 4,
 "nbformat_minor": 5
}
