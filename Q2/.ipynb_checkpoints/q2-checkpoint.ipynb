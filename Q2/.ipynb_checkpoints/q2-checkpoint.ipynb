{
 "cells": [
  {
   "cell_type": "code",
   "execution_count": 7,
   "id": "5148fa1f",
   "metadata": {},
   "outputs": [
    {
     "name": "stdout",
     "output_type": "stream",
     "text": [
      "doc1= 0.58\n",
      "\n",
      "doc2= 0.87\n",
      "\n",
      "doc3= 0.67\n",
      "\n"
     ]
    }
   ],
   "source": [
    "import numpy as np\n",
    "\n",
    "def main():\n",
    "    Docs=np.array([[1,1,0,1,0,1],[1,1,1,0,1,0],[1,1,0,1,0,0]])\n",
    "    Query=np.array([1,1,0,0,1,0])\n",
    "#     print(Docs[1])\n",
    "    \n",
    "    print(\"doc1= {0:2.2f}\\n\".format(Cos(Docs[0],Query)))\n",
    "    print(\"doc2= {0:2.2f}\\n\".format(Cos(Docs[1],Query)))\n",
    "    print(\"doc3= {0:2.2f}\\n\".format(Cos(Docs[2],Query)))\n",
    "\n",
    "def Cos(A,B):\n",
    "    return np.dot(A, B)/(np.linalg.norm(A)*np.linalg.norm(B))\n",
    "    \n",
    "if __name__==\"__main__\":\n",
    "    main()"
   ]
  },
  {
   "cell_type": "code",
   "execution_count": null,
   "id": "ab5ba16e",
   "metadata": {},
   "outputs": [],
   "source": []
  }
 ],
 "metadata": {
  "kernelspec": {
   "display_name": "Python 3 (ipykernel)",
   "language": "python",
   "name": "python3"
  },
  "language_info": {
   "codemirror_mode": {
    "name": "ipython",
    "version": 3
   },
   "file_extension": ".py",
   "mimetype": "text/x-python",
   "name": "python",
   "nbconvert_exporter": "python",
   "pygments_lexer": "ipython3",
   "version": "3.9.7"
  }
 },
 "nbformat": 4,
 "nbformat_minor": 5
}
